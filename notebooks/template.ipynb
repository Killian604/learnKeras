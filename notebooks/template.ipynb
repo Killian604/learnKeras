{
 "cells": [
  {
   "cell_type": "markdown",
   "metadata": {},
   "source": [
    "This notebook provides a session setup template. \n",
    "Includes gradual memory allocation setup (able to comment-out without hinderance if needed). \n",
    "Add modules as needed. \n",
    "\n",
    "Use: FILE -> Make A Copy... -> Rename your new file -> have fun experimenting with TF!\n",
    "\n",
    "(Don't forget to add a title and description to your work in this cell...)"
   ]
  },
  {
   "cell_type": "code",
   "execution_count": 1,
   "metadata": {},
   "outputs": [
    {
     "name": "stderr",
     "output_type": "stream",
     "text": [
      "Using TensorFlow backend.\n"
     ]
    },
    {
     "name": "stdout",
     "output_type": "stream",
     "text": [
      "Session setup successful!\n"
     ]
    }
   ],
   "source": [
    "try:\n",
    "    # Import modules\n",
    "    from keras.backend import tensorflow_backend as tb\n",
    "    from sklearn.model_selection import train_test_split\n",
    "    import keras as k\n",
    "    import matplotlib.pyplot as plt\n",
    "    import numpy as np\n",
    "    import os\n",
    "    import pandas as pd\n",
    "    import tensorflow as tf\n",
    "    plt.style.use('fivethirtyeight')\n",
    "    # Set up resizable memory: this code will allow gradual memory allocation instead of\n",
    "    #     trying to allocate something like 4GB at once on your video card\n",
    "    random_seed = 1 # Random seed included for reproducability/consistency reasons when learning. Change as necessary.\n",
    "    np.random.seed(random_seed)\n",
    "    if tb._SESSION is None:\n",
    "        if not os.environ.get('OMP_NUM_THREADS'):\n",
    "            config = tf.ConfigProto(allow_soft_placement=True)\n",
    "        else:\n",
    "            num_thread = int(os.environ.get('OMP_NUM_THREADS'))\n",
    "            config = tf.ConfigProto(intra_op_parallelism_threads=num_thread, allow_soft_placement=True)\n",
    "        config.gpu_options.allow_growth=True\n",
    "        _SESSION = tf.Session(config=config)\n",
    "    session = _SESSION\n",
    "    print('Session setup successful!')\n",
    "except Exception as e:\n",
    "    print('Session setup failed:')\n",
    "    raise e"
   ]
  },
  {
   "cell_type": "code",
   "execution_count": null,
   "metadata": {},
   "outputs": [],
   "source": []
  }
 ],
 "metadata": {
  "kernelspec": {
   "display_name": "Python 3",
   "language": "python",
   "name": "python3"
  },
  "language_info": {
   "codemirror_mode": {
    "name": "ipython",
    "version": 3
   },
   "file_extension": ".py",
   "mimetype": "text/x-python",
   "name": "python",
   "nbconvert_exporter": "python",
   "pygments_lexer": "ipython3",
   "version": "3.6.8"
  }
 },
 "nbformat": 4,
 "nbformat_minor": 2
}
